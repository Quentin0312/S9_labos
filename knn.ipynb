{
 "cells": [
  {
   "cell_type": "code",
   "execution_count": 1,
   "metadata": {},
   "outputs": [
    {
     "name": "stdout",
     "output_type": "stream",
     "text": [
      "        zcr   spectral_c      rolloff      mfcc1       mfcc2      mfcc3  \\\n",
      "0     35042  1648.884832  3760.300129 -233.72897  101.190280  17.647953   \n",
      "1     34067  1324.527825  2711.484919 -209.80392  124.464760  10.309394   \n",
      "2     77661  2280.154186  4732.983059 -144.92339   95.732994 -21.616442   \n",
      "3     52454  1817.230590  3943.831966 -213.26424  115.164760 -11.698170   \n",
      "4     23406  1151.310495  2312.179728 -301.70804  111.533280  21.896053   \n",
      "..      ...          ...          ...        ...         ...        ...   \n",
      "994   50067  2215.267219  5026.545733 -294.05438   84.636290  39.074047   \n",
      "995   58145  1993.412987  4248.252837 -192.11354  105.568050 -26.025105   \n",
      "996   50691  1311.144563  2723.742024 -237.32549  146.824200 -24.415499   \n",
      "997  136935  3905.066342  8036.631063 -158.35344   49.628300  21.610638   \n",
      "998   41982  1854.631916  4282.218009 -219.79694  100.832466  -1.431354   \n",
      "\n",
      "         mfcc4      mfcc5      mfcc6      mfcc7  ...     mfcc12     mfcc13  \\\n",
      "0    23.734175   2.082544  25.936400 -16.956388  ...  -6.050580  -5.067928   \n",
      "1    47.016357   6.478227  15.415120  -2.015942  ...  -2.195728  -3.049186   \n",
      "2    49.626270 -29.887520  29.351145 -18.850819  ...   6.359987 -21.088718   \n",
      "3    39.015358 -20.348330  13.082702  -9.182701  ...   3.785836   0.222636   \n",
      "4    16.150570   8.198790  22.081917  -8.601798  ... -10.576027 -15.687029   \n",
      "..         ...        ...        ...        ...  ...        ...        ...   \n",
      "994  28.610290  14.117953   1.014346   7.343283  ...  -0.577697   4.209762   \n",
      "995  40.168938  -6.658174  26.505718 -10.386100  ...   9.578539  -5.196666   \n",
      "996  64.266240 -10.813705   3.274191  -1.328962  ...   2.515544   3.119005   \n",
      "997  16.520689  11.424401   6.255049   5.639000  ...   2.686468  -1.462791   \n",
      "998  41.276500  -0.943615  23.378520 -11.509500  ...   5.734379  -6.879345   \n",
      "\n",
      "        mfcc14     mfcc15     mfcc16     mfcc17    mfcc18     mfcc19  \\\n",
      "0     1.059271  -5.786866  -8.313065 -11.382150 -6.724381 -10.016953   \n",
      "1     8.643512  -0.307013  -0.632918  -2.933559 -1.706299  -1.767315   \n",
      "2     2.466054  -9.539148  -1.405819  -9.312422  5.155150  -8.118464   \n",
      "3    -5.106882  -0.410153  -1.179345  -1.914708 -2.293661   2.884260   \n",
      "4   -12.606835 -12.262773 -14.563126 -10.112008 -5.792038  -7.775544   \n",
      "..         ...        ...        ...        ...       ...        ...   \n",
      "994   0.123603   0.837901  -2.138936  -4.502183 -1.098356   7.235710   \n",
      "995   7.836462  -3.858592  12.365724  -1.108032 -0.781463  -2.983506   \n",
      "996   7.749035  -1.528273   1.739316   0.783188 -2.442310   4.016751   \n",
      "997  -1.803286  -1.826393  -3.309574  -1.525185 -1.192136  -2.982367   \n",
      "998   6.203699  -5.812428   0.952484  -5.162219  3.056245   2.091952   \n",
      "\n",
      "        mfcc20  label  \n",
      "0   -14.028803  blues  \n",
      "1    -7.755139  blues  \n",
      "2    -2.440217  blues  \n",
      "3    -4.233880  blues  \n",
      "4    -7.187529  blues  \n",
      "..         ...    ...  \n",
      "994  -0.257510   jazz  \n",
      "995   0.355149   jazz  \n",
      "996  -1.991627   jazz  \n",
      "997  -1.866779   jazz  \n",
      "998   0.957722   jazz  \n",
      "\n",
      "[999 rows x 24 columns]\n"
     ]
    }
   ],
   "source": [
    "import pandas as pd\n",
    "\n",
    "from sklearn.model_selection import train_test_split\n",
    "\n",
    "df = pd.read_csv(\"music.csv\")\n",
    "print(df)"
   ]
  },
  {
   "cell_type": "code",
   "execution_count": 2,
   "metadata": {},
   "outputs": [],
   "source": [
    "X = df[['zcr', 'spectral_c', 'rolloff', 'mfcc1', 'mfcc2', 'mfcc3',\n",
    "           'mfcc4', 'mfcc5', 'mfcc6', 'mfcc7', 'mfcc8', 'mfcc9',\n",
    "           'mfcc10', 'mfcc11', 'mfcc12', 'mfcc13', 'mfcc14', 'mfcc15',\n",
    "           'mfcc16', 'mfcc17', 'mfcc18', 'mfcc19', 'mfcc20']].values\n",
    "\n",
    "y = df['label'].values\n",
    "\n",
    "X_train, X_test, y_train, y_test = train_test_split(X, y, test_size = 0.2)"
   ]
  },
  {
   "cell_type": "code",
   "execution_count": 3,
   "metadata": {},
   "outputs": [
    {
     "data": {
      "text/html": [
       "<style>#sk-container-id-1 {color: black;}#sk-container-id-1 pre{padding: 0;}#sk-container-id-1 div.sk-toggleable {background-color: white;}#sk-container-id-1 label.sk-toggleable__label {cursor: pointer;display: block;width: 100%;margin-bottom: 0;padding: 0.3em;box-sizing: border-box;text-align: center;}#sk-container-id-1 label.sk-toggleable__label-arrow:before {content: \"▸\";float: left;margin-right: 0.25em;color: #696969;}#sk-container-id-1 label.sk-toggleable__label-arrow:hover:before {color: black;}#sk-container-id-1 div.sk-estimator:hover label.sk-toggleable__label-arrow:before {color: black;}#sk-container-id-1 div.sk-toggleable__content {max-height: 0;max-width: 0;overflow: hidden;text-align: left;background-color: #f0f8ff;}#sk-container-id-1 div.sk-toggleable__content pre {margin: 0.2em;color: black;border-radius: 0.25em;background-color: #f0f8ff;}#sk-container-id-1 input.sk-toggleable__control:checked~div.sk-toggleable__content {max-height: 200px;max-width: 100%;overflow: auto;}#sk-container-id-1 input.sk-toggleable__control:checked~label.sk-toggleable__label-arrow:before {content: \"▾\";}#sk-container-id-1 div.sk-estimator input.sk-toggleable__control:checked~label.sk-toggleable__label {background-color: #d4ebff;}#sk-container-id-1 div.sk-label input.sk-toggleable__control:checked~label.sk-toggleable__label {background-color: #d4ebff;}#sk-container-id-1 input.sk-hidden--visually {border: 0;clip: rect(1px 1px 1px 1px);clip: rect(1px, 1px, 1px, 1px);height: 1px;margin: -1px;overflow: hidden;padding: 0;position: absolute;width: 1px;}#sk-container-id-1 div.sk-estimator {font-family: monospace;background-color: #f0f8ff;border: 1px dotted black;border-radius: 0.25em;box-sizing: border-box;margin-bottom: 0.5em;}#sk-container-id-1 div.sk-estimator:hover {background-color: #d4ebff;}#sk-container-id-1 div.sk-parallel-item::after {content: \"\";width: 100%;border-bottom: 1px solid gray;flex-grow: 1;}#sk-container-id-1 div.sk-label:hover label.sk-toggleable__label {background-color: #d4ebff;}#sk-container-id-1 div.sk-serial::before {content: \"\";position: absolute;border-left: 1px solid gray;box-sizing: border-box;top: 0;bottom: 0;left: 50%;z-index: 0;}#sk-container-id-1 div.sk-serial {display: flex;flex-direction: column;align-items: center;background-color: white;padding-right: 0.2em;padding-left: 0.2em;position: relative;}#sk-container-id-1 div.sk-item {position: relative;z-index: 1;}#sk-container-id-1 div.sk-parallel {display: flex;align-items: stretch;justify-content: center;background-color: white;position: relative;}#sk-container-id-1 div.sk-item::before, #sk-container-id-1 div.sk-parallel-item::before {content: \"\";position: absolute;border-left: 1px solid gray;box-sizing: border-box;top: 0;bottom: 0;left: 50%;z-index: -1;}#sk-container-id-1 div.sk-parallel-item {display: flex;flex-direction: column;z-index: 1;position: relative;background-color: white;}#sk-container-id-1 div.sk-parallel-item:first-child::after {align-self: flex-end;width: 50%;}#sk-container-id-1 div.sk-parallel-item:last-child::after {align-self: flex-start;width: 50%;}#sk-container-id-1 div.sk-parallel-item:only-child::after {width: 0;}#sk-container-id-1 div.sk-dashed-wrapped {border: 1px dashed gray;margin: 0 0.4em 0.5em 0.4em;box-sizing: border-box;padding-bottom: 0.4em;background-color: white;}#sk-container-id-1 div.sk-label label {font-family: monospace;font-weight: bold;display: inline-block;line-height: 1.2em;}#sk-container-id-1 div.sk-label-container {text-align: center;}#sk-container-id-1 div.sk-container {/* jupyter's `normalize.less` sets `[hidden] { display: none; }` but bootstrap.min.css set `[hidden] { display: none !important; }` so we also need the `!important` here to be able to override the default hidden behavior on the sphinx rendered scikit-learn.org. See: https://github.com/scikit-learn/scikit-learn/issues/21755 */display: inline-block !important;position: relative;}#sk-container-id-1 div.sk-text-repr-fallback {display: none;}</style><div id=\"sk-container-id-1\" class=\"sk-top-container\"><div class=\"sk-text-repr-fallback\"><pre>KNeighborsClassifier()</pre><b>In a Jupyter environment, please rerun this cell to show the HTML representation or trust the notebook. <br />On GitHub, the HTML representation is unable to render, please try loading this page with nbviewer.org.</b></div><div class=\"sk-container\" hidden><div class=\"sk-item\"><div class=\"sk-estimator sk-toggleable\"><input class=\"sk-toggleable__control sk-hidden--visually\" id=\"sk-estimator-id-1\" type=\"checkbox\" checked><label for=\"sk-estimator-id-1\" class=\"sk-toggleable__label sk-toggleable__label-arrow\">KNeighborsClassifier</label><div class=\"sk-toggleable__content\"><pre>KNeighborsClassifier()</pre></div></div></div></div></div>"
      ],
      "text/plain": [
       "KNeighborsClassifier()"
      ]
     },
     "execution_count": 3,
     "metadata": {},
     "output_type": "execute_result"
    }
   ],
   "source": [
    "from sklearn.neighbors import KNeighborsClassifier\n",
    "\n",
    "model_1 = KNeighborsClassifier(n_neighbors = 5)\n",
    "\n",
    "model_1.fit(X_train, y_train)"
   ]
  },
  {
   "cell_type": "markdown",
   "metadata": {},
   "source": [
    "# Score"
   ]
  },
  {
   "cell_type": "code",
   "execution_count": 4,
   "metadata": {},
   "outputs": [
    {
     "name": "stdout",
     "output_type": "stream",
     "text": [
      "Train score : 0.4755944931163955\n",
      "Test score : 0.265\n"
     ]
    }
   ],
   "source": [
    "# TODO: Reshape y_test\n",
    "print('Train score :', model_1.score(X=X_train,y=y_train))\n",
    "print('Test score :', model_1.score(X_test,y_test))"
   ]
  },
  {
   "cell_type": "code",
   "execution_count": 5,
   "metadata": {},
   "outputs": [
    {
     "data": {
      "text/plain": [
       "<matplotlib.legend.Legend at 0x7f8ce7478610>"
      ]
     },
     "execution_count": 5,
     "metadata": {},
     "output_type": "execute_result"
    },
    {
     "data": {
      "image/png": "[encoded data removed]",
      "text/plain": [
       "<Figure size 640x480 with 1 Axes>"
      ]
     },
     "metadata": {},
     "output_type": "display_data"
    }
   ],
   "source": [
    "import numpy as np\n",
    "import matplotlib.pyplot as plt\n",
    "from sklearn.model_selection import validation_curve\n",
    "\n",
    "k_1 = np.arange(1, 31)\n",
    "train_score_1, val_score_1 = validation_curve(estimator=model_1, X=X_train, y=y_train, param_name='n_neighbors', param_range=k_1, cv = 5)\n",
    "\n",
    "#5 splits sets de cross validation, puis on fait la moyenne des scores obtenus sur chacun des 5 splits\n",
    "\n",
    "plt.plot(k_1, val_score_1.mean(axis = 1), label = 'validation')\n",
    "plt.plot(k_1, train_score_1.mean(axis = 1), label = 'train')\n",
    "\n",
    "plt.ylabel('score')\n",
    "plt.xlabel('n_neighbors')\n",
    "plt.legend()"
   ]
  },
  {
   "cell_type": "code",
   "execution_count": 6,
   "metadata": {},
   "outputs": [
    {
     "ename": "ModuleNotFoundError",
     "evalue": "No module named 'seaborn'",
     "output_type": "error",
     "traceback": [
      "\u001b[0;31m---------------------------------------------------------------------------\u001b[0m",
      "\u001b[0;31mModuleNotFoundError\u001b[0m                       Traceback (most recent call last)",
      "Cell \u001b[0;32mIn[6], line 1\u001b[0m\n\u001b[0;32m----> 1\u001b[0m \u001b[39mimport\u001b[39;00m \u001b[39mseaborn\u001b[39;00m \u001b[39mas\u001b[39;00m \u001b[39msns\u001b[39;00m\n\u001b[1;32m      2\u001b[0m \u001b[39mfrom\u001b[39;00m \u001b[39msklearn\u001b[39;00m\u001b[39m.\u001b[39;00m\u001b[39mmetrics\u001b[39;00m \u001b[39mimport\u001b[39;00m confusion_matrix\n\u001b[1;32m      4\u001b[0m genres \u001b[39m=\u001b[39m [\u001b[39m'\u001b[39m\u001b[39mblues\u001b[39m\u001b[39m'\u001b[39m, \u001b[39m'\u001b[39m\u001b[39mclassical\u001b[39m\u001b[39m'\u001b[39m, \u001b[39m'\u001b[39m\u001b[39mcountry\u001b[39m\u001b[39m'\u001b[39m, \u001b[39m'\u001b[39m\u001b[39mdisco\u001b[39m\u001b[39m'\u001b[39m, \u001b[39m'\u001b[39m\u001b[39mhiphop\u001b[39m\u001b[39m'\u001b[39m, \u001b[39m'\u001b[39m\u001b[39mjazz\u001b[39m\u001b[39m'\u001b[39m,\n\u001b[1;32m      5\u001b[0m            \u001b[39m'\u001b[39m\u001b[39mmetal\u001b[39m\u001b[39m'\u001b[39m, \u001b[39m'\u001b[39m\u001b[39mpop\u001b[39m\u001b[39m'\u001b[39m, \u001b[39m'\u001b[39m\u001b[39mreggae\u001b[39m\u001b[39m'\u001b[39m, \u001b[39m'\u001b[39m\u001b[39mrock\u001b[39m\u001b[39m'\u001b[39m ] \n",
      "\u001b[0;31mModuleNotFoundError\u001b[0m: No module named 'seaborn'"
     ]
    }
   ],
   "source": [
    "import seaborn as sns\n",
    "from sklearn.metrics import confusion_matrix\n",
    "\n",
    "genres = ['blues', 'classical', 'country', 'disco', 'hiphop', 'jazz',\n",
    "           'metal', 'pop', 'reggae', 'rock' ] \n",
    "\n",
    "np.max(val_score_1.mean(axis = 1))\n",
    "np.argmax(val_score_1.mean(axis = 1)) + 1\n",
    "\n",
    "#+1 pour avoir le nombre de voisins optimal (indice commençant à 0)\n",
    "#on trouve entre 5 et 10 voisins pour environ 30-35% de réussite\n",
    "\n",
    "sns.set()\n",
    "mat = confusion_matrix(y_test, model_1.predict(X_test))\n",
    "sns.heatmap(mat.T, square=True, annot=True, fmt='d', cbar=False, xticklabels=genres, yticklabels=genres)\n",
    "plt.xlabel('true label')\n",
    "plt.ylabel('predicted label')"
   ]
  }
 ],
 "metadata": {
  "kernelspec": {
   "display_name": ".venv",
   "language": "python",
   "name": "python3"
  },
  "language_info": {
   "codemirror_mode": {
    "name": "ipython",
    "version": 3
   },
   "file_extension": ".py",
   "mimetype": "text/x-python",
   "name": "python",
   "nbconvert_exporter": "python",
   "pygments_lexer": "ipython3",
   "version": "3.11.3"
  },
  "orig_nbformat": 4
 },
 "nbformat": 4,
 "nbformat_minor": 2
}
